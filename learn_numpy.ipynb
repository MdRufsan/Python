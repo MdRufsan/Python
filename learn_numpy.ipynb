{
  "nbformat": 4,
  "nbformat_minor": 0,
  "metadata": {
    "colab": {
      "provenance": [],
      "authorship_tag": "ABX9TyOi6jnqQtBlwtty9XnF+8i+",
      "include_colab_link": true
    },
    "kernelspec": {
      "name": "python3",
      "display_name": "Python 3"
    },
    "language_info": {
      "name": "python"
    }
  },
  "cells": [
    {
      "cell_type": "markdown",
      "metadata": {
        "id": "view-in-github",
        "colab_type": "text"
      },
      "source": [
        "<a href=\"https://colab.research.google.com/github/MdRufsan/Python/blob/main/learn_numpy.ipynb\" target=\"_parent\"><img src=\"https://colab.research.google.com/assets/colab-badge.svg\" alt=\"Open In Colab\"/></a>"
      ]
    },
    {
      "cell_type": "markdown",
      "source": [
        "**Learn NumPy**\n",
        "NumPy is a Python library.\n",
        "\n",
        "NumPy is used for working with arrays.\n",
        "\n",
        "NumPy is short for \"Numerical Python\".\n",
        "fast\n",
        "need less memory\n",
        "ndarry object"
      ],
      "metadata": {
        "id": "Bx7kF7gVyCWX"
      }
    },
    {
      "cell_type": "code",
      "execution_count": null,
      "metadata": {
        "colab": {
          "base_uri": "https://localhost:8080/"
        },
        "id": "cdiCij_CxlMN",
        "outputId": "0493b6d5-28fc-4cef-c6e6-d10d3abc7384"
      },
      "outputs": [
        {
          "output_type": "stream",
          "name": "stdout",
          "text": [
            "Requirement already satisfied: numpy in /usr/local/lib/python3.11/dist-packages (2.0.2)\n"
          ]
        }
      ],
      "source": [
        "!pip install numpy"
      ]
    },
    {
      "cell_type": "code",
      "source": [
        "import numpy as np"
      ],
      "metadata": {
        "id": "aI9qQQnGzQok"
      },
      "execution_count": null,
      "outputs": []
    },
    {
      "cell_type": "markdown",
      "source": [
        "**Arry attributes**"
      ],
      "metadata": {
        "id": "fEAD4GudzeG6"
      }
    },
    {
      "cell_type": "code",
      "source": [
        "#1D arry generates\n",
        "a=np.array([1,2,3])\n",
        "a"
      ],
      "metadata": {
        "colab": {
          "base_uri": "https://localhost:8080/"
        },
        "id": "dTSarNopzWi2",
        "outputId": "bdf5debf-48d3-4d23-cab1-581dc257bf6e"
      },
      "execution_count": null,
      "outputs": [
        {
          "output_type": "stream",
          "name": "stdout",
          "text": [
            "<class 'numpy.ndarray'>\n"
          ]
        }
      ]
    },
    {
      "cell_type": "code",
      "source": [
        "print(type(a))"
      ],
      "metadata": {
        "colab": {
          "base_uri": "https://localhost:8080/"
        },
        "id": "qSsrz8fFzsTq",
        "outputId": "758221ac-7a92-48d5-c535-7e072a742619"
      },
      "execution_count": null,
      "outputs": [
        {
          "output_type": "stream",
          "name": "stdout",
          "text": [
            "<class 'numpy.ndarray'>\n"
          ]
        }
      ]
    },
    {
      "cell_type": "code",
      "source": [
        "a.shape #arry shape"
      ],
      "metadata": {
        "colab": {
          "base_uri": "https://localhost:8080/"
        },
        "id": "rGZ68GZg0F40",
        "outputId": "5cc39cbe-4786-4234-f68f-1f0ab0cec69f"
      },
      "execution_count": null,
      "outputs": [
        {
          "output_type": "execute_result",
          "data": {
            "text/plain": [
              "(3,)"
            ]
          },
          "metadata": {},
          "execution_count": 14
        }
      ]
    },
    {
      "cell_type": "code",
      "source": [
        "# dimention name 1D arry=vector\n",
        "a.ndim"
      ],
      "metadata": {
        "colab": {
          "base_uri": "https://localhost:8080/"
        },
        "id": "hQVrAsRu0Oxg",
        "outputId": "deacb94a-1498-4bfe-ff8b-3a2eb3894597"
      },
      "execution_count": null,
      "outputs": [
        {
          "output_type": "execute_result",
          "data": {
            "text/plain": [
              "1"
            ]
          },
          "metadata": {},
          "execution_count": 15
        }
      ]
    },
    {
      "cell_type": "code",
      "source": [
        "# 2D array\n",
        "b=np.array([[1,2,3],[4,5,6]])\n",
        "b"
      ],
      "metadata": {
        "colab": {
          "base_uri": "https://localhost:8080/"
        },
        "id": "p7-MSVEj0m60",
        "outputId": "f4a5f377-605a-47a1-bc3c-3db1d756811f"
      },
      "execution_count": null,
      "outputs": [
        {
          "output_type": "execute_result",
          "data": {
            "text/plain": [
              "array([[1, 2, 3],\n",
              "       [4, 5, 6]])"
            ]
          },
          "metadata": {},
          "execution_count": 16
        }
      ]
    },
    {
      "cell_type": "code",
      "source": [
        "type(b)"
      ],
      "metadata": {
        "colab": {
          "base_uri": "https://localhost:8080/"
        },
        "id": "V7RlJc-60WcK",
        "outputId": "02bbd4ea-9ab8-4e66-e492-fca7bd77097d"
      },
      "execution_count": null,
      "outputs": [
        {
          "output_type": "execute_result",
          "data": {
            "text/plain": [
              "numpy.ndarray"
            ]
          },
          "metadata": {},
          "execution_count": 17
        }
      ]
    },
    {
      "cell_type": "code",
      "source": [
        "b.shape"
      ],
      "metadata": {
        "colab": {
          "base_uri": "https://localhost:8080/"
        },
        "id": "XaLSGt1e1EJi",
        "outputId": "b8b67908-092f-45a5-adf9-f82ccb5318df"
      },
      "execution_count": null,
      "outputs": [
        {
          "output_type": "execute_result",
          "data": {
            "text/plain": [
              "(2, 3)"
            ]
          },
          "metadata": {},
          "execution_count": 19
        }
      ]
    },
    {
      "cell_type": "code",
      "source": [
        "b.ndim"
      ],
      "metadata": {
        "colab": {
          "base_uri": "https://localhost:8080/"
        },
        "id": "EpIvNqCn1H6t",
        "outputId": "f384eb6f-e8c6-410a-ec93-6982c27a58dd"
      },
      "execution_count": null,
      "outputs": [
        {
          "output_type": "execute_result",
          "data": {
            "text/plain": [
              "2"
            ]
          },
          "metadata": {},
          "execution_count": 30
        }
      ]
    },
    {
      "cell_type": "markdown",
      "source": [
        "**Moer array creation methoda**"
      ],
      "metadata": {
        "id": "kVCcJ9jzOGC7"
      }
    },
    {
      "cell_type": "code",
      "source": [
        "array1=np.array([1,2,3],dtype='int')\n",
        "array1"
      ],
      "metadata": {
        "colab": {
          "base_uri": "https://localhost:8080/"
        },
        "id": "xwJV2Gv-OM6w",
        "outputId": "c5562996-ff96-419b-a993-87779e4ee8b4"
      },
      "execution_count": null,
      "outputs": [
        {
          "output_type": "execute_result",
          "data": {
            "text/plain": [
              "array([1, 2, 3])"
            ]
          },
          "metadata": {},
          "execution_count": 34
        }
      ]
    },
    {
      "cell_type": "code",
      "source": [
        "z=np.zeros((2,3), order=\"C\", dtype='int')  # ach element will be 0   ((shape),ordre,datatype)\n",
        "z"
      ],
      "metadata": {
        "colab": {
          "base_uri": "https://localhost:8080/"
        },
        "id": "K8n_Ruk6OVbg",
        "outputId": "07823dbb-91d2-4468-c444-741be8297065"
      },
      "execution_count": null,
      "outputs": [
        {
          "output_type": "execute_result",
          "data": {
            "text/plain": [
              "array([[0, 0, 0],\n",
              "       [0, 0, 0]])"
            ]
          },
          "metadata": {},
          "execution_count": 43
        }
      ]
    },
    {
      "cell_type": "code",
      "source": [
        "np.ones((3,3), dtype='int')  # ach element will be 1"
      ],
      "metadata": {
        "colab": {
          "base_uri": "https://localhost:8080/"
        },
        "id": "80ninyvwQDlA",
        "outputId": "11d3736c-ff08-488b-e262-b298fb710144"
      },
      "execution_count": null,
      "outputs": [
        {
          "output_type": "execute_result",
          "data": {
            "text/plain": [
              "array([[1, 1, 1],\n",
              "       [1, 1, 1],\n",
              "       [1, 1, 1]])"
            ]
          },
          "metadata": {},
          "execution_count": 45
        }
      ]
    },
    {
      "cell_type": "code",
      "source": [
        "np.full((3,3),5)  #modify values"
      ],
      "metadata": {
        "colab": {
          "base_uri": "https://localhost:8080/"
        },
        "id": "B6maUeI5QonL",
        "outputId": "8649ec0a-5d2c-48db-e3f3-e961bbdc1e5a"
      },
      "execution_count": null,
      "outputs": [
        {
          "output_type": "execute_result",
          "data": {
            "text/plain": [
              "array([[5, 5, 5],\n",
              "       [5, 5, 5],\n",
              "       [5, 5, 5]])"
            ]
          },
          "metadata": {},
          "execution_count": 46
        }
      ]
    },
    {
      "cell_type": "code",
      "source": [
        "# identity matrix\n",
        "identity_matrix1=np.eye(4, dtype='int')\n",
        "identity_matrix1"
      ],
      "metadata": {
        "colab": {
          "base_uri": "https://localhost:8080/"
        },
        "id": "2YPPUuX3Q7Oe",
        "outputId": "1e6a7420-6ea0-475d-926a-8b5d4f05c6fc"
      },
      "execution_count": null,
      "outputs": [
        {
          "output_type": "execute_result",
          "data": {
            "text/plain": [
              "array([[1, 0, 0, 0],\n",
              "       [0, 1, 0, 0],\n",
              "       [0, 0, 1, 0],\n",
              "       [0, 0, 0, 1]])"
            ]
          },
          "metadata": {},
          "execution_count": 49
        }
      ]
    },
    {
      "cell_type": "code",
      "source": [
        "identity_matrix2=np.identity(4, dtype='int')\n",
        "identity_matrix2"
      ],
      "metadata": {
        "colab": {
          "base_uri": "https://localhost:8080/"
        },
        "id": "L3gCzURvRMbt",
        "outputId": "e1d406de-c473-46fa-fc19-9980ae07de6f"
      },
      "execution_count": null,
      "outputs": [
        {
          "output_type": "execute_result",
          "data": {
            "text/plain": [
              "array([[1, 0, 0, 0],\n",
              "       [0, 1, 0, 0],\n",
              "       [0, 0, 1, 0],\n",
              "       [0, 0, 0, 1]])"
            ]
          },
          "metadata": {},
          "execution_count": 52
        }
      ]
    },
    {
      "cell_type": "code",
      "source": [
        "identity_matrix3=np.eye(4,4,1) # (rows,cols,iteration k=1)\n",
        "identity_matrix3"
      ],
      "metadata": {
        "colab": {
          "base_uri": "https://localhost:8080/"
        },
        "id": "fflgTLGSR3j8",
        "outputId": "6bd99f7e-0d7f-4547-9526-183b68edd28b"
      },
      "execution_count": null,
      "outputs": [
        {
          "output_type": "execute_result",
          "data": {
            "text/plain": [
              "array([[0., 1., 0., 0.],\n",
              "       [0., 0., 1., 0.],\n",
              "       [0., 0., 0., 1.],\n",
              "       [0., 0., 0., 0.]])"
            ]
          },
          "metadata": {},
          "execution_count": 54
        }
      ]
    },
    {
      "cell_type": "code",
      "source": [
        "# arrange ()\n",
        "arrange=np.arange(1,10,2) #(start,stop,step)\n",
        "arrange"
      ],
      "metadata": {
        "colab": {
          "base_uri": "https://localhost:8080/"
        },
        "id": "0Z64sN_ZSQ00",
        "outputId": "c09229b3-b011-49a8-949d-2128dfb17686"
      },
      "execution_count": null,
      "outputs": [
        {
          "output_type": "execute_result",
          "data": {
            "text/plain": [
              "array([1, 3, 5, 7, 9])"
            ]
          },
          "metadata": {},
          "execution_count": 56
        }
      ]
    },
    {
      "cell_type": "code",
      "source": [
        "linspace=np.linspace(1,10,50,dtype='int') #(start,stop,number of elements)\n",
        "linspace\n"
      ],
      "metadata": {
        "colab": {
          "base_uri": "https://localhost:8080/"
        },
        "id": "k4BXm3fnSp7q",
        "outputId": "428e0b4f-3523-4671-87b6-385abd0a4887"
      },
      "execution_count": null,
      "outputs": [
        {
          "output_type": "execute_result",
          "data": {
            "text/plain": [
              "array([ 1,  1,  1,  1,  1,  1,  2,  2,  2,  2,  2,  3,  3,  3,  3,  3,  3,\n",
              "        4,  4,  4,  4,  4,  5,  5,  5,  5,  5,  5,  6,  6,  6,  6,  6,  7,\n",
              "        7,  7,  7,  7,  7,  8,  8,  8,  8,  8,  9,  9,  9,  9,  9, 10])"
            ]
          },
          "metadata": {},
          "execution_count": 62
        }
      ]
    },
    {
      "cell_type": "code",
      "source": [
        "linspace.size"
      ],
      "metadata": {
        "colab": {
          "base_uri": "https://localhost:8080/"
        },
        "id": "4z_wYVjpTFbv",
        "outputId": "9f304753-de50-4145-a322-8f2a4302f690"
      },
      "execution_count": null,
      "outputs": [
        {
          "output_type": "execute_result",
          "data": {
            "text/plain": [
              "50"
            ]
          },
          "metadata": {},
          "execution_count": 63
        }
      ]
    },
    {
      "cell_type": "code",
      "source": [
        "empty=np.empty((2,3))  # entry any value\n",
        "empty"
      ],
      "metadata": {
        "colab": {
          "base_uri": "https://localhost:8080/"
        },
        "id": "wP2KyhouTRJC",
        "outputId": "c437ab9d-e3ac-48ad-f637-c1485e7d1678"
      },
      "execution_count": null,
      "outputs": [
        {
          "output_type": "execute_result",
          "data": {
            "text/plain": [
              "array([[6.28631005e-316, 0.00000000e+000, 5.31673923e-317],\n",
              "       [5.31666808e-317, 6.75046004e-310, 6.75046004e-310]])"
            ]
          },
          "metadata": {},
          "execution_count": 66
        }
      ]
    },
    {
      "cell_type": "markdown",
      "source": [
        "**Indexing and sliceing**"
      ],
      "metadata": {
        "id": "-CfpvFiAU4Gx"
      }
    },
    {
      "cell_type": "code",
      "source": [
        "# generate random integer\n",
        "import numpy as np\n",
        "a=np.random.randint(1,100,size=(3,5)) # 1-99 3*5 arry\n",
        "print(a)"
      ],
      "metadata": {
        "id": "9atEElBpTrK5",
        "colab": {
          "base_uri": "https://localhost:8080/"
        },
        "outputId": "3c6a9801-72b0-4e4a-e23a-359f351d9282"
      },
      "execution_count": 7,
      "outputs": [
        {
          "output_type": "stream",
          "name": "stdout",
          "text": [
            "[[66 10 30 27 18]\n",
            " [34 37 98 42  3]\n",
            " [27 19 36  1  4]]\n"
          ]
        }
      ]
    },
    {
      "cell_type": "code",
      "source": [
        "import numpy as np\n",
        "a=np.random.randint(1,100,5) # 1-99 integer contains 5 elements in a arry\n",
        "print(a)"
      ],
      "metadata": {
        "colab": {
          "base_uri": "https://localhost:8080/"
        },
        "id": "4e4zbloD2sCM",
        "outputId": "980659e1-24db-4615-ae47-8f5d8d9792fe"
      },
      "execution_count": 15,
      "outputs": [
        {
          "output_type": "stream",
          "name": "stdout",
          "text": [
            "[27 71 59 61  3]\n"
          ]
        }
      ]
    },
    {
      "cell_type": "code",
      "source": [
        "import numpy as np\n",
        "a=np.random.rand(2,3) # random float\n",
        "print(a)"
      ],
      "metadata": {
        "colab": {
          "base_uri": "https://localhost:8080/"
        },
        "id": "XFg6GY1R3mW_",
        "outputId": "cef51777-da76-477a-878d-9b03d336da0e"
      },
      "execution_count": 22,
      "outputs": [
        {
          "output_type": "stream",
          "name": "stdout",
          "text": [
            "[[0.02344438 0.36701947 0.45672275]\n",
            " [0.88705298 0.08331896 0.59799164]]\n"
          ]
        }
      ]
    },
    {
      "cell_type": "code",
      "source": [
        "# sorting arry\n",
        "\n",
        "a=np.array([3,1,7,2,0])\n",
        "print('The arry is : ',a)\n",
        "sorted_arr=np.sort(a)\n",
        "print('The sorted arry is : ',sorted_arr)"
      ],
      "metadata": {
        "colab": {
          "base_uri": "https://localhost:8080/"
        },
        "id": "foKWcKUs4h2P",
        "outputId": "0d55de21-0568-4832-9ef0-973de9441123"
      },
      "execution_count": 26,
      "outputs": [
        {
          "output_type": "stream",
          "name": "stdout",
          "text": [
            "The arry is :  [3 1 7 2 0]\n",
            "The sorted arry is :  [0 1 2 3 7]\n"
          ]
        }
      ]
    },
    {
      "cell_type": "code",
      "source": [
        "# row wise sort in 2D array\n",
        "a=np.array([[3,1,7],\n",
        "            [2,0,5]])\n",
        "\n",
        "sorted_rows=np.sort(a, axis=1)\n",
        "print('The sorted arry is : ',sorted_arr)"
      ],
      "metadata": {
        "colab": {
          "base_uri": "https://localhost:8080/"
        },
        "id": "fhEIb30_5JKk",
        "outputId": "bb1bfc32-e841-4523-a345-50f83f8eb065"
      },
      "execution_count": 33,
      "outputs": [
        {
          "output_type": "stream",
          "name": "stdout",
          "text": [
            "The sorted arry is :  [[1 3 7]\n",
            " [0 2 5]]\n"
          ]
        }
      ]
    },
    {
      "cell_type": "code",
      "source": [
        "# summation & multiplication a whole array with a number\n",
        "\n",
        "a=np.array([[3,2,2],[4,5,6]])\n",
        "\n",
        "display(\"Summation 10 : \",a+10)\n",
        "display(\"Multiplication 10 : \",a*10)"
      ],
      "metadata": {
        "colab": {
          "base_uri": "https://localhost:8080/",
          "height": 123
        },
        "id": "QZpKFW3v5xtf",
        "outputId": "b5e671f3-143b-4e04-bec9-fb5fb2ce73bd"
      },
      "execution_count": 41,
      "outputs": [
        {
          "output_type": "display_data",
          "data": {
            "text/plain": [
              "'Summation 10 : '"
            ],
            "application/vnd.google.colaboratory.intrinsic+json": {
              "type": "string"
            }
          },
          "metadata": {}
        },
        {
          "output_type": "display_data",
          "data": {
            "text/plain": [
              "array([[13, 12, 12],\n",
              "       [14, 15, 16]])"
            ]
          },
          "metadata": {}
        },
        {
          "output_type": "display_data",
          "data": {
            "text/plain": [
              "'Multiplication 10 : '"
            ],
            "application/vnd.google.colaboratory.intrinsic+json": {
              "type": "string"
            }
          },
          "metadata": {}
        },
        {
          "output_type": "display_data",
          "data": {
            "text/plain": [
              "array([[30, 20, 20],\n",
              "       [40, 50, 60]])"
            ]
          },
          "metadata": {}
        }
      ]
    },
    {
      "cell_type": "code",
      "source": [
        "row=np.array([1,2,3])\n",
        "result=a + row\n",
        "display(result)"
      ],
      "metadata": {
        "colab": {
          "base_uri": "https://localhost:8080/",
          "height": 52
        },
        "id": "wzzCPEDj61_L",
        "outputId": "6fefa8bc-04fb-4ee8-baea-aa64b575a434"
      },
      "execution_count": 45,
      "outputs": [
        {
          "output_type": "display_data",
          "data": {
            "text/plain": [
              "array([[4, 4, 5],\n",
              "       [5, 7, 9]])"
            ]
          },
          "metadata": {}
        }
      ]
    },
    {
      "cell_type": "code",
      "source": [
        "#array reshape\n",
        "\n",
        "arr=np.array([1,2,3,4,5,6])\n",
        "print('Orginal array :',arr)\n",
        "reshaped_arr=arr.reshape(2,3) # reshape in 2*3 matrix\n",
        "print('Reshaped array :',reshaped_arr)\n",
        "\n",
        "flattened=reshaped_arr.flatten() # return flat again\n",
        "print('Flattened array :',flattened)"
      ],
      "metadata": {
        "colab": {
          "base_uri": "https://localhost:8080/"
        },
        "id": "Oww8YMC_8sQs",
        "outputId": "33b78b2c-d8e2-42ec-eac1-c26bbae0917f"
      },
      "execution_count": 51,
      "outputs": [
        {
          "output_type": "stream",
          "name": "stdout",
          "text": [
            "Orginal array : [1 2 3 4 5 6]\n",
            "Reshaped array : [[1 2 3]\n",
            " [4 5 6]]\n",
            "Flattened array : [1 2 3 4 5 6]\n"
          ]
        }
      ]
    },
    {
      "cell_type": "code",
      "source": [
        "# transpose\n",
        "\n",
        "a=np.array([[1,2],[5,6]])\n",
        "print('Orginal array :',a)\n",
        "transposed=a.T\n",
        "print('Transposed array :',transposed)"
      ],
      "metadata": {
        "colab": {
          "base_uri": "https://localhost:8080/"
        },
        "id": "D07rIvnz9w5F",
        "outputId": "e1a5d174-3e9e-4f33-f9d1-7c935c9c4f12"
      },
      "execution_count": 59,
      "outputs": [
        {
          "output_type": "stream",
          "name": "stdout",
          "text": [
            "Orginal array : [[1 2]\n",
            " [5 6]]\n",
            "Transposed array : [[1 5]\n",
            " [2 6]]\n"
          ]
        }
      ]
    },
    {
      "cell_type": "markdown",
      "source": [
        "**Indexing and sliceing**"
      ],
      "metadata": {
        "id": "zkGh_IcN-nup"
      }
    },
    {
      "cell_type": "code",
      "source": [
        "# 1D array indexing\n",
        "\n",
        "import numpy as np\n",
        "a=np.array([1,2,3,4,5])\n",
        "print(a[0])\n",
        "print(a[-1])"
      ],
      "metadata": {
        "colab": {
          "base_uri": "https://localhost:8080/"
        },
        "id": "1hXqc1dH-mTh",
        "outputId": "4405973c-9bbb-4d2d-98ff-a28870233e1e"
      },
      "execution_count": 60,
      "outputs": [
        {
          "output_type": "stream",
          "name": "stdout",
          "text": [
            "1\n",
            "5\n"
          ]
        }
      ]
    },
    {
      "cell_type": "code",
      "source": [
        "# 1D array slicing\n",
        "\n",
        "import numpy as np\n",
        "a=np.array([1,2,3,4,5])\n",
        "print(a[0:3])\n",
        "print(a[2:])"
      ],
      "metadata": {
        "colab": {
          "base_uri": "https://localhost:8080/"
        },
        "id": "we2VX8e6-3vV",
        "outputId": "a92e9092-dd76-486b-ba96-77a13fbea1b2"
      },
      "execution_count": 61,
      "outputs": [
        {
          "output_type": "stream",
          "name": "stdout",
          "text": [
            "[1 2 3]\n",
            "[3 4 5]\n"
          ]
        }
      ]
    },
    {
      "cell_type": "code",
      "source": [
        "# 2D array indexing\n",
        "a=np.array([[1,2,3],[4,5,6]])\n",
        "print(a[0,1]) # 1st row 2nd col\n",
        "print(a[1,2]) # 2nd row 3rd col"
      ],
      "metadata": {
        "colab": {
          "base_uri": "https://localhost:8080/"
        },
        "id": "az5jtP-Y_EuE",
        "outputId": "672c3210-89b6-4b3f-db25-3f1193005ec8"
      },
      "execution_count": 63,
      "outputs": [
        {
          "output_type": "stream",
          "name": "stdout",
          "text": [
            "2\n",
            "6\n"
          ]
        }
      ]
    },
    {
      "cell_type": "code",
      "source": [
        "# 2D array slicing\n",
        "\n",
        "a=np.array([[1,2,3],[4,5,6]])\n",
        "print(a[:,1]) # all rows 2nd col\n",
        "print(a[0,:]) # 1st row's all cols"
      ],
      "metadata": {
        "colab": {
          "base_uri": "https://localhost:8080/"
        },
        "id": "Bac4As7f_nhu",
        "outputId": "0c27b2de-cdba-4c56-d045-3ca4f7cba072"
      },
      "execution_count": 66,
      "outputs": [
        {
          "output_type": "stream",
          "name": "stdout",
          "text": [
            "[2 5]\n",
            "[1 2 3]\n"
          ]
        }
      ]
    },
    {
      "cell_type": "code",
      "source": [
        "# boolean indexing (important for filtering)\n",
        "\n",
        "import numpy as np\n",
        "a=np.array([1,2,3,4,5,6])\n",
        "print(a[a>2])\n",
        "\n",
        "print(a[a%2==0])\n",
        "print(a[a%2==1])"
      ],
      "metadata": {
        "colab": {
          "base_uri": "https://localhost:8080/"
        },
        "id": "XzZy2ugqAPuV",
        "outputId": "3b5415a0-a932-4d65-a648-4c1755d759ff"
      },
      "execution_count": 70,
      "outputs": [
        {
          "output_type": "stream",
          "name": "stdout",
          "text": [
            "[3 4 5 6]\n",
            "[2 4 6]\n",
            "[1 3 5]\n"
          ]
        }
      ]
    },
    {
      "cell_type": "markdown",
      "source": [
        "**Array operations**"
      ],
      "metadata": {
        "id": "W9AQjnlUA1bk"
      }
    },
    {
      "cell_type": "code",
      "source": [
        "# arithmetic operations\n",
        "\n",
        "import numpy as np\n",
        "a=np.array([1,2,3])\n",
        "b=np.array([4,5,6])\n",
        "\n",
        "print(a+b)\n",
        "print(a-b)\n",
        "print(a*b)\n",
        "print(a/b)\n"
      ],
      "metadata": {
        "colab": {
          "base_uri": "https://localhost:8080/"
        },
        "id": "RG7HHzbAA07F",
        "outputId": "415efc65-87d5-4017-ed03-1506e2cc1341"
      },
      "execution_count": 89,
      "outputs": [
        {
          "output_type": "stream",
          "name": "stdout",
          "text": [
            "[5 7 9]\n",
            "[-3 -3 -3]\n",
            "[ 4 10 18]\n",
            "[0.25 0.4  0.5 ]\n"
          ]
        }
      ]
    },
    {
      "cell_type": "code",
      "source": [
        "# scalar operations\n",
        "\n",
        "import numpy as np\n",
        "a=np.array([1,2,3])\n",
        "print(a+2)\n",
        "print(a-2)\n",
        "print(a*2)\n",
        "print(a/2)"
      ],
      "metadata": {
        "colab": {
          "base_uri": "https://localhost:8080/"
        },
        "id": "PB5RnNTJBUH0",
        "outputId": "b1c486e6-ee00-48c2-da82-343a2fcc0498"
      },
      "execution_count": 88,
      "outputs": [
        {
          "output_type": "stream",
          "name": "stdout",
          "text": [
            "[3 4 5]\n",
            "[-1  0  1]\n",
            "[2 4 6]\n",
            "[0.5 1.  1.5]\n"
          ]
        }
      ]
    },
    {
      "cell_type": "code",
      "source": [
        "#matrix multiplication (dot product)\n",
        "\n",
        "import numpy as np\n",
        "a=np.array([[1,2],[3,4]])\n",
        "b=np.array([[5,6],[7,8]])\n",
        "print(a.dot(b))\n",
        "print(np.dot(a,b))"
      ],
      "metadata": {
        "colab": {
          "base_uri": "https://localhost:8080/"
        },
        "id": "_w5x_52uBfPK",
        "outputId": "cc99da88-b5ca-4966-881a-554f65e75f76"
      },
      "execution_count": 87,
      "outputs": [
        {
          "output_type": "stream",
          "name": "stdout",
          "text": [
            "[[19 22]\n",
            " [43 50]]\n",
            "[[19 22]\n",
            " [43 50]]\n"
          ]
        }
      ]
    },
    {
      "cell_type": "code",
      "source": [
        "# eliment wise square,power,root\n",
        "\n",
        "import numpy as np\n",
        "a=np.array([1,2,3])\n",
        "print(np.square(a))\n",
        "print(np.power(a,2))\n",
        "print(np.sqrt(a))"
      ],
      "metadata": {
        "colab": {
          "base_uri": "https://localhost:8080/"
        },
        "id": "sy-tDlplB67V",
        "outputId": "ecc1cc9a-4607-4d18-81e0-e1ec07e1c1c5"
      },
      "execution_count": 86,
      "outputs": [
        {
          "output_type": "stream",
          "name": "stdout",
          "text": [
            "[1 4 9]\n",
            "[1 4 9]\n",
            "[1.         1.41421356 1.73205081]\n"
          ]
        }
      ]
    },
    {
      "cell_type": "code",
      "source": [
        "# aggregate functions\n",
        "\n",
        "import numpy as np\n",
        "a=np.array([1,2,3,4,5])\n",
        "print(np.sum(a))\n",
        "print(np.mean(a))\n",
        "print(np.min(a))\n",
        "print(np.max(a))\n",
        "print(np.std(a))\n",
        "print(np.var(a))\n",
        "print(np.median(a))\n",
        "print(np.percentile(a,25))\n",
        "print(np.percentile(a,50))\n",
        "print(np.percentile(a,75))\n",
        "print(np.percentile(a,100))\n",
        "print(np.percentile(a,0))\n",
        "print(np.percentile(a,5))"
      ],
      "metadata": {
        "colab": {
          "base_uri": "https://localhost:8080/"
        },
        "id": "EcFO2l9XCTx0",
        "outputId": "6d75dd50-f7d1-4b75-b32f-63158c96f473"
      },
      "execution_count": 85,
      "outputs": [
        {
          "output_type": "stream",
          "name": "stdout",
          "text": [
            "15\n",
            "3.0\n",
            "1\n",
            "5\n",
            "1.4142135623730951\n",
            "2.0\n",
            "3.0\n",
            "2.0\n",
            "3.0\n",
            "4.0\n",
            "5.0\n",
            "1.0\n",
            "1.2\n"
          ]
        }
      ]
    }
  ]
}